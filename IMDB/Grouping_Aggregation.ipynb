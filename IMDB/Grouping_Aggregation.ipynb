{
 "cells": [
  {
   "cell_type": "code",
   "execution_count": 1,
   "metadata": {},
   "outputs": [],
   "source": [
    "import pandas as pd\n",
    "import numpy as np"
   ]
  },
  {
   "cell_type": "code",
   "execution_count": 52,
   "metadata": {},
   "outputs": [
    {
     "data": {
      "text/html": [
       "<div>\n",
       "<style scoped>\n",
       "    .dataframe tbody tr th:only-of-type {\n",
       "        vertical-align: middle;\n",
       "    }\n",
       "\n",
       "    .dataframe tbody tr th {\n",
       "        vertical-align: top;\n",
       "    }\n",
       "\n",
       "    .dataframe thead th {\n",
       "        text-align: right;\n",
       "    }\n",
       "</style>\n",
       "<table border=\"1\" class=\"dataframe\">\n",
       "  <thead>\n",
       "    <tr style=\"text-align: right;\">\n",
       "      <th></th>\n",
       "      <th>Poster_Link</th>\n",
       "      <th>Series_Title</th>\n",
       "      <th>Released_Year</th>\n",
       "      <th>Certificate</th>\n",
       "      <th>Runtime</th>\n",
       "      <th>Genre</th>\n",
       "      <th>IMDB_Rating</th>\n",
       "      <th>Overview</th>\n",
       "      <th>Meta_score</th>\n",
       "      <th>Director</th>\n",
       "      <th>Star1</th>\n",
       "      <th>Star2</th>\n",
       "      <th>Star3</th>\n",
       "      <th>Star4</th>\n",
       "      <th>No_of_Votes</th>\n",
       "      <th>Gross</th>\n",
       "    </tr>\n",
       "  </thead>\n",
       "  <tbody>\n",
       "    <tr>\n",
       "      <th>0</th>\n",
       "      <td>https://m.media-amazon.com/images/M/MV5BMDFkYT...</td>\n",
       "      <td>The Shawshank Redemption</td>\n",
       "      <td>1994</td>\n",
       "      <td>A</td>\n",
       "      <td>142 min</td>\n",
       "      <td>Drama</td>\n",
       "      <td>9.3</td>\n",
       "      <td>Two imprisoned men bond over a number of years...</td>\n",
       "      <td>80.0</td>\n",
       "      <td>Frank Darabont</td>\n",
       "      <td>Tim Robbins</td>\n",
       "      <td>Morgan Freeman</td>\n",
       "      <td>Bob Gunton</td>\n",
       "      <td>William Sadler</td>\n",
       "      <td>2343110</td>\n",
       "      <td>28,341,469</td>\n",
       "    </tr>\n",
       "    <tr>\n",
       "      <th>1</th>\n",
       "      <td>https://m.media-amazon.com/images/M/MV5BM2MyNj...</td>\n",
       "      <td>The Godfather</td>\n",
       "      <td>1972</td>\n",
       "      <td>A</td>\n",
       "      <td>175 min</td>\n",
       "      <td>Crime, Drama</td>\n",
       "      <td>9.2</td>\n",
       "      <td>An organized crime dynasty's aging patriarch t...</td>\n",
       "      <td>100.0</td>\n",
       "      <td>Francis Ford Coppola</td>\n",
       "      <td>Marlon Brando</td>\n",
       "      <td>Al Pacino</td>\n",
       "      <td>James Caan</td>\n",
       "      <td>Diane Keaton</td>\n",
       "      <td>1620367</td>\n",
       "      <td>134,966,411</td>\n",
       "    </tr>\n",
       "    <tr>\n",
       "      <th>2</th>\n",
       "      <td>https://m.media-amazon.com/images/M/MV5BMTMxNT...</td>\n",
       "      <td>The Dark Knight</td>\n",
       "      <td>2008</td>\n",
       "      <td>UA</td>\n",
       "      <td>152 min</td>\n",
       "      <td>Action, Crime, Drama</td>\n",
       "      <td>9.0</td>\n",
       "      <td>When the menace known as the Joker wreaks havo...</td>\n",
       "      <td>84.0</td>\n",
       "      <td>Christopher Nolan</td>\n",
       "      <td>Christian Bale</td>\n",
       "      <td>Heath Ledger</td>\n",
       "      <td>Aaron Eckhart</td>\n",
       "      <td>Michael Caine</td>\n",
       "      <td>2303232</td>\n",
       "      <td>534,858,444</td>\n",
       "    </tr>\n",
       "    <tr>\n",
       "      <th>3</th>\n",
       "      <td>https://m.media-amazon.com/images/M/MV5BMWMwMG...</td>\n",
       "      <td>The Godfather: Part II</td>\n",
       "      <td>1974</td>\n",
       "      <td>A</td>\n",
       "      <td>202 min</td>\n",
       "      <td>Crime, Drama</td>\n",
       "      <td>9.0</td>\n",
       "      <td>The early life and career of Vito Corleone in ...</td>\n",
       "      <td>90.0</td>\n",
       "      <td>Francis Ford Coppola</td>\n",
       "      <td>Al Pacino</td>\n",
       "      <td>Robert De Niro</td>\n",
       "      <td>Robert Duvall</td>\n",
       "      <td>Diane Keaton</td>\n",
       "      <td>1129952</td>\n",
       "      <td>57,300,000</td>\n",
       "    </tr>\n",
       "    <tr>\n",
       "      <th>4</th>\n",
       "      <td>https://m.media-amazon.com/images/M/MV5BMWU4N2...</td>\n",
       "      <td>12 Angry Men</td>\n",
       "      <td>1957</td>\n",
       "      <td>U</td>\n",
       "      <td>96 min</td>\n",
       "      <td>Crime, Drama</td>\n",
       "      <td>9.0</td>\n",
       "      <td>A jury holdout attempts to prevent a miscarria...</td>\n",
       "      <td>96.0</td>\n",
       "      <td>Sidney Lumet</td>\n",
       "      <td>Henry Fonda</td>\n",
       "      <td>Lee J. Cobb</td>\n",
       "      <td>Martin Balsam</td>\n",
       "      <td>John Fiedler</td>\n",
       "      <td>689845</td>\n",
       "      <td>4,360,000</td>\n",
       "    </tr>\n",
       "  </tbody>\n",
       "</table>\n",
       "</div>"
      ],
      "text/plain": [
       "                                         Poster_Link  \\\n",
       "0  https://m.media-amazon.com/images/M/MV5BMDFkYT...   \n",
       "1  https://m.media-amazon.com/images/M/MV5BM2MyNj...   \n",
       "2  https://m.media-amazon.com/images/M/MV5BMTMxNT...   \n",
       "3  https://m.media-amazon.com/images/M/MV5BMWMwMG...   \n",
       "4  https://m.media-amazon.com/images/M/MV5BMWU4N2...   \n",
       "\n",
       "               Series_Title Released_Year Certificate  Runtime  \\\n",
       "0  The Shawshank Redemption          1994           A  142 min   \n",
       "1             The Godfather          1972           A  175 min   \n",
       "2           The Dark Knight          2008          UA  152 min   \n",
       "3    The Godfather: Part II          1974           A  202 min   \n",
       "4              12 Angry Men          1957           U   96 min   \n",
       "\n",
       "                  Genre  IMDB_Rating  \\\n",
       "0                 Drama          9.3   \n",
       "1          Crime, Drama          9.2   \n",
       "2  Action, Crime, Drama          9.0   \n",
       "3          Crime, Drama          9.0   \n",
       "4          Crime, Drama          9.0   \n",
       "\n",
       "                                            Overview  Meta_score  \\\n",
       "0  Two imprisoned men bond over a number of years...        80.0   \n",
       "1  An organized crime dynasty's aging patriarch t...       100.0   \n",
       "2  When the menace known as the Joker wreaks havo...        84.0   \n",
       "3  The early life and career of Vito Corleone in ...        90.0   \n",
       "4  A jury holdout attempts to prevent a miscarria...        96.0   \n",
       "\n",
       "               Director           Star1           Star2          Star3  \\\n",
       "0        Frank Darabont     Tim Robbins  Morgan Freeman     Bob Gunton   \n",
       "1  Francis Ford Coppola   Marlon Brando       Al Pacino     James Caan   \n",
       "2     Christopher Nolan  Christian Bale    Heath Ledger  Aaron Eckhart   \n",
       "3  Francis Ford Coppola       Al Pacino  Robert De Niro  Robert Duvall   \n",
       "4          Sidney Lumet     Henry Fonda     Lee J. Cobb  Martin Balsam   \n",
       "\n",
       "            Star4  No_of_Votes        Gross  \n",
       "0  William Sadler      2343110   28,341,469  \n",
       "1    Diane Keaton      1620367  134,966,411  \n",
       "2   Michael Caine      2303232  534,858,444  \n",
       "3    Diane Keaton      1129952   57,300,000  \n",
       "4    John Fiedler       689845    4,360,000  "
      ]
     },
     "execution_count": 52,
     "metadata": {},
     "output_type": "execute_result"
    }
   ],
   "source": [
    "df = pd.read_csv(\"imdb.csv\")\n",
    "df.head()"
   ]
  },
  {
   "cell_type": "code",
   "execution_count": 3,
   "metadata": {},
   "outputs": [
    {
     "name": "stdout",
     "output_type": "stream",
     "text": [
      "<class 'pandas.core.frame.DataFrame'>\n",
      "RangeIndex: 1000 entries, 0 to 999\n",
      "Data columns (total 16 columns):\n",
      " #   Column         Non-Null Count  Dtype  \n",
      "---  ------         --------------  -----  \n",
      " 0   Poster_Link    1000 non-null   object \n",
      " 1   Series_Title   1000 non-null   object \n",
      " 2   Released_Year  1000 non-null   object \n",
      " 3   Certificate    899 non-null    object \n",
      " 4   Runtime        1000 non-null   object \n",
      " 5   Genre          1000 non-null   object \n",
      " 6   IMDB_Rating    1000 non-null   float64\n",
      " 7   Overview       1000 non-null   object \n",
      " 8   Meta_score     843 non-null    float64\n",
      " 9   Director       1000 non-null   object \n",
      " 10  Star1          1000 non-null   object \n",
      " 11  Star2          1000 non-null   object \n",
      " 12  Star3          1000 non-null   object \n",
      " 13  Star4          1000 non-null   object \n",
      " 14  No_of_Votes    1000 non-null   int64  \n",
      " 15  Gross          831 non-null    object \n",
      "dtypes: float64(2), int64(1), object(13)\n",
      "memory usage: 125.1+ KB\n"
     ]
    }
   ],
   "source": [
    "df.info()"
   ]
  },
  {
   "cell_type": "code",
   "execution_count": 23,
   "metadata": {},
   "outputs": [
    {
     "name": "stdout",
     "output_type": "stream",
     "text": [
      "Genre\n",
      "Unknown    7.9493\n",
      "Name: IMDB_Rating, dtype: float64\n"
     ]
    }
   ],
   "source": [
    "## Group the dataset by Genre and find the average IMDB rating for each.\n",
    "# Split genres and explode into separate rows\n",
    "genre_exploded = df.assign(Genre=df['Genre'].str.split(', ')).explode('Genre')\n",
    "# Group by Genre and calculate average IMDB rating\n",
    "df[\"IMDB_Rating\"].astype(float)\n",
    "genre_avg_rating = genre_exploded.groupby('Genre')['IMDB_Rating'].mean().sort_values(ascending=False)\n",
    "# Display the result\n",
    "print(genre_avg_rating) "
   ]
  },
  {
   "cell_type": "code",
   "execution_count": 30,
   "metadata": {},
   "outputs": [
    {
     "data": {
      "text/plain": [
       "Genre\n",
       "Drama,        442\n",
       "Drama         282\n",
       "Action,       189\n",
       "Crime,        185\n",
       "Comedy,       185\n",
       "Adventure,    180\n",
       "Thriller      133\n",
       "Romance       116\n",
       "Biography,    108\n",
       "Animation,     82\n",
       "Sci-Fi         59\n",
       "Mystery        51\n",
       "War            50\n",
       "Fantasy        49\n",
       "Comedy         48\n",
       "Mystery,       48\n",
       "History        41\n",
       "Family         33\n",
       "Crime          24\n",
       "Family,        23\n",
       "Music          21\n",
       "Western        20\n",
       "Horror,        20\n",
       "Sport          19\n",
       "Fantasy,       17\n",
       "Adventure      16\n",
       "Musical        15\n",
       "History,       15\n",
       "Music,         14\n",
       "Horror         12\n",
       "Film-Noir      10\n",
       "Romance,        9\n",
       "Film-Noir,      9\n",
       "Sci-Fi,         8\n",
       "Thriller,       4\n",
       "Musical,        2\n",
       "Biography       1\n",
       "War,            1\n",
       "Name: count, dtype: int64"
      ]
     },
     "execution_count": 30,
     "metadata": {},
     "output_type": "execute_result"
    }
   ],
   "source": [
    "## Count how many movies are in each genre.\n",
    "df[\"Genre\"].str.split().explode().value_counts()\n"
   ]
  },
  {
   "cell_type": "code",
   "execution_count": 41,
   "metadata": {},
   "outputs": [
    {
     "name": "stdout",
     "output_type": "stream",
     "text": [
      "Released_Year\n",
      "1920.0     1\n",
      "1921.0     1\n",
      "1922.0     1\n",
      "1924.0     1\n",
      "1925.0     2\n",
      "          ..\n",
      "2016.0    28\n",
      "2017.0    22\n",
      "2018.0    19\n",
      "2019.0    23\n",
      "2020.0     6\n",
      "Name: count, Length: 99, dtype: int64\n"
     ]
    }
   ],
   "source": [
    "## Count the number of movies per year.\n",
    "df[\"Released_Year\"] = pd.to_numeric(df[\"Released_Year\"], errors='coerce')\n",
    "# Count the number of movies per year\n",
    "movies_per_year = df[\"Released_Year\"].value_counts().sort_index()\n",
    "print(movies_per_year)"
   ]
  },
  {
   "cell_type": "code",
   "execution_count": 50,
   "metadata": {},
   "outputs": [
    {
     "name": "stdout",
     "output_type": "stream",
     "text": [
      "Certificate\n",
      "16          130\n",
      "A           128\n",
      "Approved    111\n",
      "G           119\n",
      "GP          124\n",
      "PG          114\n",
      "PG-13       116\n",
      "Passed      106\n",
      "R           122\n",
      "TV-14       132\n",
      "TV-MA       106\n",
      "TV-PG        93\n",
      "U           124\n",
      "U/A         102\n",
      "UA          129\n",
      "Unrated     183\n",
      "Name: Runtime, dtype: int32\n"
     ]
    }
   ],
   "source": [
    "## Group by Certificate and calculate the average runtime for each category.\n",
    "# Convert 'Runtime' column to integer\n",
    "df[\"Runtime\"] = df[\"Runtime\"].str.replace(\" min\", \"\", regex=True).astype(int)\n",
    "\n",
    "# Group by 'Certificate' and calculate the average runtime\n",
    "avg_runtime_by_certificate = df.groupby(\"Certificate\")[\"Runtime\"].mean().astype(int)\n",
    "print(avg_runtime_by_certificate)\n"
   ]
  },
  {
   "cell_type": "code",
   "execution_count": 54,
   "metadata": {},
   "outputs": [
    {
     "name": "stdout",
     "output_type": "stream",
     "text": [
      "Main_Genre\n",
      "Action       1.419631e+08\n",
      "Adventure    8.645499e+07\n",
      "Animation    1.279675e+08\n",
      "Biography    6.012873e+07\n",
      "Comedy       3.253759e+07\n",
      "Crime        3.419123e+07\n",
      "Drama        3.867728e+07\n",
      "Family       2.195553e+08\n",
      "Fantasy               NaN\n",
      "Film-Noir    1.278626e+06\n",
      "Horror       7.358577e+07\n",
      "Mystery      3.043953e+07\n",
      "Thriller     1.755074e+07\n",
      "Western      1.455538e+07\n",
      "Name: Gross, dtype: float64\n"
     ]
    }
   ],
   "source": [
    "## Group by Main Genre and find the average Gross income.\n",
    "# Convert 'Gross' column to numeric (remove commas and convert to float)\n",
    "df[\"Gross\"] = df[\"Gross\"].replace({\",\": \"\"}, regex=True).astype(float)\n",
    "\n",
    "# Extract the first genre as 'Main_Genre'\n",
    "df[\"Main_Genre\"] = df[\"Genre\"].str.split(\",\").str[0]\n",
    "\n",
    "# Group by 'Main_Genre' and calculate the average Gross income\n",
    "avg_gross_by_genre = df.groupby(\"Main_Genre\")[\"Gross\"].mean()\n",
    "print(avg_gross_by_genre)\n"
   ]
  },
  {
   "cell_type": "code",
   "execution_count": 55,
   "metadata": {},
   "outputs": [
    {
     "name": "stdout",
     "output_type": "stream",
     "text": [
      "Director\n",
      "Alfred Hitchcock    14\n",
      "Steven Spielberg    13\n",
      "Hayao Miyazaki      11\n",
      "Martin Scorsese     10\n",
      "Akira Kurosawa      10\n",
      "Name: count, dtype: int64\n"
     ]
    }
   ],
   "source": [
    "## Display the top 5 most repeated directors.\n",
    "top_5_directors = df[\"Director\"].value_counts().head(5)\n",
    "print(top_5_directors)"
   ]
  },
  {
   "cell_type": "code",
   "execution_count": 56,
   "metadata": {},
   "outputs": [
    {
     "name": "stdout",
     "output_type": "stream",
     "text": [
      "                      count    mean\n",
      "Director                           \n",
      "Frank Darabont            2  8.9500\n",
      "Milos Forman              2  8.5000\n",
      "Christopher Nolan         8  8.4625\n",
      "Francis Ford Coppola      5  8.4000\n",
      "Peter Jackson             5  8.4000\n"
     ]
    }
   ],
   "source": [
    "## Find the top 5 directors with the highest average IMDB rating (minimum 2 movies).\n",
    "top_directors_rating = (\n",
    "    df.groupby(\"Director\")[\"IMDB_Rating\"]\n",
    "    .agg([\"count\", \"mean\"])  # Count number of movies and calculate mean rating\n",
    "    .query(\"count >= 2\")  # Filter directors with at least 2 movies\n",
    "    .sort_values(\"mean\", ascending=False)\n",
    "    .head(5)\n",
    ")\n",
    "print(top_directors_rating)"
   ]
  },
  {
   "cell_type": "code",
   "execution_count": 57,
   "metadata": {},
   "outputs": [
    {
     "name": "stdout",
     "output_type": "stream",
     "text": [
      "Decade\n",
      "1920.0    95.000000\n",
      "1930.0    90.800000\n",
      "1940.0    92.450000\n",
      "1950.0    90.375000\n",
      "1960.0    83.050847\n",
      "1970.0    81.166667\n",
      "1980.0    77.073171\n",
      "1990.0    74.141791\n",
      "2000.0    73.737089\n",
      "2010.0    77.308458\n",
      "2020.0    82.750000\n",
      "Name: Meta_score, dtype: float64\n"
     ]
    }
   ],
   "source": [
    "## Group by Decade and calculate the average Meta_score.\n",
    "# Convert 'Released_Year' to numeric\n",
    "df[\"Released_Year\"] = pd.to_numeric(df[\"Released_Year\"], errors=\"coerce\")\n",
    "\n",
    "# Create 'Decade' column\n",
    "df[\"Decade\"] = (df[\"Released_Year\"] // 10) * 10\n",
    "\n",
    "# Calculate the average Meta Score per Decade\n",
    "avg_meta_score_decade = df.groupby(\"Decade\")[\"Meta_score\"].mean()\n",
    "print(avg_meta_score_decade)\n"
   ]
  },
  {
   "cell_type": "code",
   "execution_count": 58,
   "metadata": {},
   "outputs": [
    {
     "name": "stdout",
     "output_type": "stream",
     "text": [
      "Certificate\n",
      "U           234\n",
      "A           197\n",
      "UA          175\n",
      "R           146\n",
      "PG-13        43\n",
      "PG           37\n",
      "Passed       34\n",
      "G            12\n",
      "Approved     11\n",
      "TV-PG         3\n",
      "GP            2\n",
      "TV-14         1\n",
      "16            1\n",
      "TV-MA         1\n",
      "Unrated       1\n",
      "U/A           1\n",
      "Name: count, dtype: int64\n"
     ]
    }
   ],
   "source": [
    "## Count the number of movies in each Certificate category.\n",
    "certificate_counts = df[\"Certificate\"].value_counts()\n",
    "print(certificate_counts)"
   ]
  },
  {
   "cell_type": "code",
   "execution_count": 59,
   "metadata": {},
   "outputs": [
    {
     "name": "stdout",
     "output_type": "stream",
     "text": [
      "Released_Year\n",
      "2014.0    32\n",
      "2004.0    31\n",
      "2009.0    29\n",
      "2013.0    28\n",
      "2016.0    28\n",
      "Name: count, dtype: int64\n"
     ]
    }
   ],
   "source": [
    "## List the top 5 years with the most movie releases.\n",
    "top_5_years = df[\"Released_Year\"].value_counts().head(5)\n",
    "print(top_5_years)"
   ]
  }
 ],
 "metadata": {
  "kernelspec": {
   "display_name": "base",
   "language": "python",
   "name": "python3"
  },
  "language_info": {
   "codemirror_mode": {
    "name": "ipython",
    "version": 3
   },
   "file_extension": ".py",
   "mimetype": "text/x-python",
   "name": "python",
   "nbconvert_exporter": "python",
   "pygments_lexer": "ipython3",
   "version": "3.12.7"
  }
 },
 "nbformat": 4,
 "nbformat_minor": 2
}
