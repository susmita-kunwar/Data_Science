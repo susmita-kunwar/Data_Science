{
 "cells": [
  {
   "cell_type": "code",
   "execution_count": 118,
   "metadata": {},
   "outputs": [],
   "source": [
    "import pandas as pd\n",
    "import numpy as np"
   ]
  },
  {
   "cell_type": "code",
   "execution_count": 177,
   "metadata": {},
   "outputs": [
    {
     "data": {
      "text/html": [
       "<div>\n",
       "<style scoped>\n",
       "    .dataframe tbody tr th:only-of-type {\n",
       "        vertical-align: middle;\n",
       "    }\n",
       "\n",
       "    .dataframe tbody tr th {\n",
       "        vertical-align: top;\n",
       "    }\n",
       "\n",
       "    .dataframe thead th {\n",
       "        text-align: right;\n",
       "    }\n",
       "</style>\n",
       "<table border=\"1\" class=\"dataframe\">\n",
       "  <thead>\n",
       "    <tr style=\"text-align: right;\">\n",
       "      <th></th>\n",
       "      <th>Poster_Link</th>\n",
       "      <th>Series_Title</th>\n",
       "      <th>Released_Year</th>\n",
       "      <th>Certificate</th>\n",
       "      <th>Runtime</th>\n",
       "      <th>Genre</th>\n",
       "      <th>IMDB_Rating</th>\n",
       "      <th>Overview</th>\n",
       "      <th>Meta_score</th>\n",
       "      <th>Director</th>\n",
       "      <th>Star1</th>\n",
       "      <th>Star2</th>\n",
       "      <th>Star3</th>\n",
       "      <th>Star4</th>\n",
       "      <th>No_of_Votes</th>\n",
       "      <th>Gross</th>\n",
       "    </tr>\n",
       "  </thead>\n",
       "  <tbody>\n",
       "    <tr>\n",
       "      <th>0</th>\n",
       "      <td>https://m.media-amazon.com/images/M/MV5BMDFkYT...</td>\n",
       "      <td>The Shawshank Redemption</td>\n",
       "      <td>1994</td>\n",
       "      <td>A</td>\n",
       "      <td>142 min</td>\n",
       "      <td>Drama</td>\n",
       "      <td>9.3</td>\n",
       "      <td>Two imprisoned men bond over a number of years...</td>\n",
       "      <td>80.0</td>\n",
       "      <td>Frank Darabont</td>\n",
       "      <td>Tim Robbins</td>\n",
       "      <td>Morgan Freeman</td>\n",
       "      <td>Bob Gunton</td>\n",
       "      <td>William Sadler</td>\n",
       "      <td>2343110</td>\n",
       "      <td>28,341,469</td>\n",
       "    </tr>\n",
       "    <tr>\n",
       "      <th>1</th>\n",
       "      <td>https://m.media-amazon.com/images/M/MV5BM2MyNj...</td>\n",
       "      <td>The Godfather</td>\n",
       "      <td>1972</td>\n",
       "      <td>A</td>\n",
       "      <td>175 min</td>\n",
       "      <td>Crime, Drama</td>\n",
       "      <td>9.2</td>\n",
       "      <td>An organized crime dynasty's aging patriarch t...</td>\n",
       "      <td>100.0</td>\n",
       "      <td>Francis Ford Coppola</td>\n",
       "      <td>Marlon Brando</td>\n",
       "      <td>Al Pacino</td>\n",
       "      <td>James Caan</td>\n",
       "      <td>Diane Keaton</td>\n",
       "      <td>1620367</td>\n",
       "      <td>134,966,411</td>\n",
       "    </tr>\n",
       "    <tr>\n",
       "      <th>2</th>\n",
       "      <td>https://m.media-amazon.com/images/M/MV5BMTMxNT...</td>\n",
       "      <td>The Dark Knight</td>\n",
       "      <td>2008</td>\n",
       "      <td>UA</td>\n",
       "      <td>152 min</td>\n",
       "      <td>Action, Crime, Drama</td>\n",
       "      <td>9.0</td>\n",
       "      <td>When the menace known as the Joker wreaks havo...</td>\n",
       "      <td>84.0</td>\n",
       "      <td>Christopher Nolan</td>\n",
       "      <td>Christian Bale</td>\n",
       "      <td>Heath Ledger</td>\n",
       "      <td>Aaron Eckhart</td>\n",
       "      <td>Michael Caine</td>\n",
       "      <td>2303232</td>\n",
       "      <td>534,858,444</td>\n",
       "    </tr>\n",
       "    <tr>\n",
       "      <th>3</th>\n",
       "      <td>https://m.media-amazon.com/images/M/MV5BMWMwMG...</td>\n",
       "      <td>The Godfather: Part II</td>\n",
       "      <td>1974</td>\n",
       "      <td>A</td>\n",
       "      <td>202 min</td>\n",
       "      <td>Crime, Drama</td>\n",
       "      <td>9.0</td>\n",
       "      <td>The early life and career of Vito Corleone in ...</td>\n",
       "      <td>90.0</td>\n",
       "      <td>Francis Ford Coppola</td>\n",
       "      <td>Al Pacino</td>\n",
       "      <td>Robert De Niro</td>\n",
       "      <td>Robert Duvall</td>\n",
       "      <td>Diane Keaton</td>\n",
       "      <td>1129952</td>\n",
       "      <td>57,300,000</td>\n",
       "    </tr>\n",
       "    <tr>\n",
       "      <th>4</th>\n",
       "      <td>https://m.media-amazon.com/images/M/MV5BMWU4N2...</td>\n",
       "      <td>12 Angry Men</td>\n",
       "      <td>1957</td>\n",
       "      <td>U</td>\n",
       "      <td>96 min</td>\n",
       "      <td>Crime, Drama</td>\n",
       "      <td>9.0</td>\n",
       "      <td>A jury holdout attempts to prevent a miscarria...</td>\n",
       "      <td>96.0</td>\n",
       "      <td>Sidney Lumet</td>\n",
       "      <td>Henry Fonda</td>\n",
       "      <td>Lee J. Cobb</td>\n",
       "      <td>Martin Balsam</td>\n",
       "      <td>John Fiedler</td>\n",
       "      <td>689845</td>\n",
       "      <td>4,360,000</td>\n",
       "    </tr>\n",
       "  </tbody>\n",
       "</table>\n",
       "</div>"
      ],
      "text/plain": [
       "                                         Poster_Link  \\\n",
       "0  https://m.media-amazon.com/images/M/MV5BMDFkYT...   \n",
       "1  https://m.media-amazon.com/images/M/MV5BM2MyNj...   \n",
       "2  https://m.media-amazon.com/images/M/MV5BMTMxNT...   \n",
       "3  https://m.media-amazon.com/images/M/MV5BMWMwMG...   \n",
       "4  https://m.media-amazon.com/images/M/MV5BMWU4N2...   \n",
       "\n",
       "               Series_Title Released_Year Certificate  Runtime  \\\n",
       "0  The Shawshank Redemption          1994           A  142 min   \n",
       "1             The Godfather          1972           A  175 min   \n",
       "2           The Dark Knight          2008          UA  152 min   \n",
       "3    The Godfather: Part II          1974           A  202 min   \n",
       "4              12 Angry Men          1957           U   96 min   \n",
       "\n",
       "                  Genre  IMDB_Rating  \\\n",
       "0                 Drama          9.3   \n",
       "1          Crime, Drama          9.2   \n",
       "2  Action, Crime, Drama          9.0   \n",
       "3          Crime, Drama          9.0   \n",
       "4          Crime, Drama          9.0   \n",
       "\n",
       "                                            Overview  Meta_score  \\\n",
       "0  Two imprisoned men bond over a number of years...        80.0   \n",
       "1  An organized crime dynasty's aging patriarch t...       100.0   \n",
       "2  When the menace known as the Joker wreaks havo...        84.0   \n",
       "3  The early life and career of Vito Corleone in ...        90.0   \n",
       "4  A jury holdout attempts to prevent a miscarria...        96.0   \n",
       "\n",
       "               Director           Star1           Star2          Star3  \\\n",
       "0        Frank Darabont     Tim Robbins  Morgan Freeman     Bob Gunton   \n",
       "1  Francis Ford Coppola   Marlon Brando       Al Pacino     James Caan   \n",
       "2     Christopher Nolan  Christian Bale    Heath Ledger  Aaron Eckhart   \n",
       "3  Francis Ford Coppola       Al Pacino  Robert De Niro  Robert Duvall   \n",
       "4          Sidney Lumet     Henry Fonda     Lee J. Cobb  Martin Balsam   \n",
       "\n",
       "            Star4  No_of_Votes        Gross  \n",
       "0  William Sadler      2343110   28,341,469  \n",
       "1    Diane Keaton      1620367  134,966,411  \n",
       "2   Michael Caine      2303232  534,858,444  \n",
       "3    Diane Keaton      1129952   57,300,000  \n",
       "4    John Fiedler       689845    4,360,000  "
      ]
     },
     "execution_count": 177,
     "metadata": {},
     "output_type": "execute_result"
    }
   ],
   "source": [
    "df = pd.read_csv(\"imdb.csv\")\n",
    "df.head()"
   ]
  },
  {
   "cell_type": "code",
   "execution_count": 120,
   "metadata": {},
   "outputs": [
    {
     "name": "stdout",
     "output_type": "stream",
     "text": [
      "<class 'pandas.core.frame.DataFrame'>\n",
      "RangeIndex: 1000 entries, 0 to 999\n",
      "Data columns (total 16 columns):\n",
      " #   Column         Non-Null Count  Dtype  \n",
      "---  ------         --------------  -----  \n",
      " 0   Poster_Link    1000 non-null   object \n",
      " 1   Series_Title   1000 non-null   object \n",
      " 2   Released_Year  1000 non-null   object \n",
      " 3   Certificate    899 non-null    object \n",
      " 4   Runtime        1000 non-null   object \n",
      " 5   Genre          1000 non-null   object \n",
      " 6   IMDB_Rating    1000 non-null   float64\n",
      " 7   Overview       1000 non-null   object \n",
      " 8   Meta_score     843 non-null    float64\n",
      " 9   Director       1000 non-null   object \n",
      " 10  Star1          1000 non-null   object \n",
      " 11  Star2          1000 non-null   object \n",
      " 12  Star3          1000 non-null   object \n",
      " 13  Star4          1000 non-null   object \n",
      " 14  No_of_Votes    1000 non-null   int64  \n",
      " 15  Gross          831 non-null    object \n",
      "dtypes: float64(2), int64(1), object(13)\n",
      "memory usage: 125.1+ KB\n"
     ]
    }
   ],
   "source": [
    "df.info()"
   ]
  },
  {
   "cell_type": "code",
   "execution_count": 121,
   "metadata": {},
   "outputs": [],
   "source": [
    "## List all movies released after the year 2010.\n",
    "df[\"Released_Year\"] = pd.to_numeric(df[\"Released_Year\"], errors='coerce')\n",
    "movies_after_2010 = df[df['Released_Year'] > 2010 ]"
   ]
  },
  {
   "cell_type": "code",
   "execution_count": 122,
   "metadata": {},
   "outputs": [
    {
     "name": "stdout",
     "output_type": "stream",
     "text": [
      "           Series_Title  Released_Year\n",
      "18             Hamilton         2020.0\n",
      "19         Gisaengchung         2019.0\n",
      "20      Soorarai Pottru         2020.0\n",
      "21         Interstellar         2014.0\n",
      "33                Joker         2019.0\n",
      "..                  ...            ...\n",
      "901        End of Watch         2012.0\n",
      "903      A Star Is Born         2018.0\n",
      "907               50/50         2011.0\n",
      "910           Moneyball         2011.0\n",
      "911  La piel que habito         2011.0\n",
      "\n",
      "[225 rows x 2 columns]\n"
     ]
    }
   ],
   "source": [
    "print(movies_after_2010[['Series_Title',\"Released_Year\"]])"
   ]
  },
  {
   "cell_type": "code",
   "execution_count": 123,
   "metadata": {},
   "outputs": [
    {
     "name": "stdout",
     "output_type": "stream",
     "text": [
      "Movies with IMDB rating > 8.5:\n",
      "                                         Series_Title  IMDB_Rating\n",
      "0                            The Shawshank Redemption          9.3\n",
      "1                                       The Godfather          9.2\n",
      "2                                     The Dark Knight          9.0\n",
      "3                              The Godfather: Part II          9.0\n",
      "4                                        12 Angry Men          9.0\n",
      "5       The Lord of the Rings: The Return of the King          8.9\n",
      "6                                        Pulp Fiction          8.9\n",
      "7                                    Schindler's List          8.9\n",
      "8                                           Inception          8.8\n",
      "9                                          Fight Club          8.8\n",
      "10  The Lord of the Rings: The Fellowship of the Ring          8.8\n",
      "11                                       Forrest Gump          8.8\n",
      "12                    Il buono, il brutto, il cattivo          8.8\n",
      "13              The Lord of the Rings: The Two Towers          8.7\n",
      "14                                         The Matrix          8.7\n",
      "15                                         Goodfellas          8.7\n",
      "16     Star Wars: Episode V - The Empire Strikes Back          8.7\n",
      "17                    One Flew Over the Cuckoo's Nest          8.7\n",
      "18                                           Hamilton          8.6\n",
      "19                                       Gisaengchung          8.6\n",
      "20                                    Soorarai Pottru          8.6\n",
      "21                                       Interstellar          8.6\n",
      "22                                     Cidade de Deus          8.6\n",
      "23                      Sen to Chihiro no kamikakushi          8.6\n",
      "24                                Saving Private Ryan          8.6\n",
      "25                                     The Green Mile          8.6\n",
      "26                                    La vita è bella          8.6\n",
      "27                                              Se7en          8.6\n",
      "28                           The Silence of the Lambs          8.6\n",
      "29                                          Star Wars          8.6\n",
      "30                                            Seppuku          8.6\n",
      "31                               Shichinin no samurai          8.6\n",
      "32                              It's a Wonderful Life          8.6\n"
     ]
    }
   ],
   "source": [
    "## Show all movies with an IMDB rating higher than 8.5.\n",
    "df[\"IMDB_Rating\"].astype(float)\n",
    "movies_with_IMDB= df[df[\"IMDB_Rating\"] > 8.5]\n",
    "print(\"Movies with IMDB rating > 8.5:\")\n",
    "print(movies_with_IMDB[[\"Series_Title\", \"IMDB_Rating\"]])"
   ]
  },
  {
   "cell_type": "code",
   "execution_count": 135,
   "metadata": {},
   "outputs": [
    {
     "name": "stdout",
     "output_type": "stream",
     "text": [
      "                        Series_Title  Genre\n",
      "0           The Shawshank Redemption  Drama\n",
      "9                         Fight Club  Drama\n",
      "17   One Flew Over the Cuckoo's Nest  Drama\n",
      "20                   Soorarai Pottru  Drama\n",
      "40                American History X  Drama\n",
      "..                               ...    ...\n",
      "933             Synecdoche, New York  Drama\n",
      "934                  Mysterious Skin  Drama\n",
      "941                        25th Hour  Drama\n",
      "946                Y tu mamá también  Drama\n",
      "981                   On Golden Pond  Drama\n",
      "\n",
      "[85 rows x 2 columns]\n"
     ]
    }
   ],
   "source": [
    "## List all movies in the Drama genre.\n",
    "df[\"Genre\"].str.split(\", \").explode().value_counts().head()\n",
    "Only_Drama = df[df[\"Genre\"] == \"Drama\"]\n",
    "print(Only_Drama[[\"Series_Title\", \"Genre\"]])"
   ]
  },
  {
   "cell_type": "code",
   "execution_count": 147,
   "metadata": {},
   "outputs": [
    {
     "name": "stdout",
     "output_type": "stream",
     "text": [
      "                                      Series_Title  Runtime\n",
      "1                                    The Godfather      175\n",
      "2                                  The Dark Knight      152\n",
      "3                           The Godfather: Part II      202\n",
      "5    The Lord of the Rings: The Return of the King      201\n",
      "6                                     Pulp Fiction      154\n",
      "..                                             ...      ...\n",
      "947          Harry Potter and the Sorcerer's Stone      152\n",
      "955                              The Thin Red Line      170\n",
      "974                        The Godfather: Part III      162\n",
      "990                                   Giù la testa      157\n",
      "996                                          Giant      201\n",
      "\n",
      "[147 rows x 2 columns]\n"
     ]
    }
   ],
   "source": [
    "# Remove ' min' from the 'Runtime' column and convert it to integer\n",
    "df[\"Runtime\"] = df[\"Runtime\"].str.replace(\" min\", \"\", regex=True).astype(int)\n",
    "\n",
    "# Filter movies with runtime greater than 150 minutes\n",
    "Movie_greater_150_min = df[df[\"Runtime\"] > 150]\n",
    "\n",
    "# Display the relevant columns\n",
    "print(Movie_greater_150_min[[\"Series_Title\", \"Runtime\"]])\n"
   ]
  },
  {
   "cell_type": "code",
   "execution_count": 154,
   "metadata": {},
   "outputs": [
    {
     "data": {
      "text/html": [
       "<div>\n",
       "<style scoped>\n",
       "    .dataframe tbody tr th:only-of-type {\n",
       "        vertical-align: middle;\n",
       "    }\n",
       "\n",
       "    .dataframe tbody tr th {\n",
       "        vertical-align: top;\n",
       "    }\n",
       "\n",
       "    .dataframe thead th {\n",
       "        text-align: right;\n",
       "    }\n",
       "</style>\n",
       "<table border=\"1\" class=\"dataframe\">\n",
       "  <thead>\n",
       "    <tr style=\"text-align: right;\">\n",
       "      <th></th>\n",
       "      <th>Poster_Link</th>\n",
       "      <th>Series_Title</th>\n",
       "      <th>Released_Year</th>\n",
       "      <th>Certificate</th>\n",
       "      <th>Runtime</th>\n",
       "      <th>Genre</th>\n",
       "      <th>IMDB_Rating</th>\n",
       "      <th>Overview</th>\n",
       "      <th>Meta_score</th>\n",
       "      <th>Director</th>\n",
       "      <th>Star1</th>\n",
       "      <th>Star2</th>\n",
       "      <th>Star3</th>\n",
       "      <th>Star4</th>\n",
       "      <th>No_of_Votes</th>\n",
       "      <th>Gross</th>\n",
       "    </tr>\n",
       "  </thead>\n",
       "  <tbody>\n",
       "  </tbody>\n",
       "</table>\n",
       "</div>"
      ],
      "text/plain": [
       "Empty DataFrame\n",
       "Columns: [Poster_Link, Series_Title, Released_Year, Certificate, Runtime, Genre, IMDB_Rating, Overview, Meta_score, Director, Star1, Star2, Star3, Star4, No_of_Votes, Gross]\n",
       "Index: []"
      ]
     },
     "execution_count": 154,
     "metadata": {},
     "output_type": "execute_result"
    }
   ],
   "source": [
    "## Find all movies with the word 'Love' in the title.\n",
    "df[\"Series_Title\"] = df[\"Series_Title\"].astype(str) == \"Love\"\n",
    "df[df[\"Series_Title\"] == \"Love\"]"
   ]
  },
  {
   "cell_type": "code",
   "execution_count": 166,
   "metadata": {},
   "outputs": [
    {
     "name": "stdout",
     "output_type": "stream",
     "text": [
      "                                      Series_Title  Meta_score\n",
      "1                                    The Godfather       100.0\n",
      "4                                     12 Angry Men        96.0\n",
      "5    The Lord of the Rings: The Return of the King        94.0\n",
      "6                                     Pulp Fiction        94.0\n",
      "7                                 Schindler's List        94.0\n",
      "..                                             ...         ...\n",
      "875                                       Fantasia        96.0\n",
      "881                            The Florida Project        92.0\n",
      "895                                       Leviafan        92.0\n",
      "994                             A Hard Day's Night        96.0\n",
      "999                                   The 39 Steps        93.0\n",
      "\n",
      "[132 rows x 2 columns]\n"
     ]
    }
   ],
   "source": [
    "## List movies with a Meta_score greater than 90.\n",
    "Meta_score_gt_90 = df[df[\"Meta_score\"] > 90]\n",
    "print(Meta_score_gt_90[[\"Series_Title\", \"Meta_score\"]])"
   ]
  },
  {
   "cell_type": "code",
   "execution_count": 169,
   "metadata": {},
   "outputs": [
    {
     "name": "stdout",
     "output_type": "stream",
     "text": [
      "                                          Series_Title Certificate\n",
      "2                                      The Dark Knight          UA\n",
      "4                                         12 Angry Men           U\n",
      "5        The Lord of the Rings: The Return of the King           U\n",
      "8                                            Inception          UA\n",
      "10   The Lord of the Rings: The Fellowship of the Ring           U\n",
      "..                                                 ...         ...\n",
      "984                                   The Muppet Movie           U\n",
      "986                                     Watership Down           U\n",
      "988                 Close Encounters of the Third Kind           U\n",
      "992                                    The Jungle Book           U\n",
      "994                                 A Hard Day's Night           U\n",
      "\n",
      "[409 rows x 2 columns]\n"
     ]
    }
   ],
   "source": [
    "## List movies with Certificate 'U' or 'UA'.\n",
    "Certificate_U_UA =df[(df[\"Certificate\"] == \"U\")| (df[\"Certificate\"] == \"UA\")]\n",
    "print(Certificate_U_UA[[\"Series_Title\", \"Certificate\"]])"
   ]
  },
  {
   "cell_type": "code",
   "execution_count": 170,
   "metadata": {},
   "outputs": [
    {
     "name": "stdout",
     "output_type": "stream",
     "text": [
      "                                          Series_Title  \\\n",
      "5        The Lord of the Rings: The Return of the King   \n",
      "8                                            Inception   \n",
      "10   The Lord of the Rings: The Fellowship of the Ring   \n",
      "13               The Lord of the Rings: The Two Towers   \n",
      "16      Star Wars: Episode V - The Empire Strikes Back   \n",
      "..                                                 ...   \n",
      "914                                    Sherlock Holmes   \n",
      "927             Harry Potter and the Half-Blood Prince   \n",
      "944                                    Batoru rowaiaru   \n",
      "963                         Die Hard: With a Vengeance   \n",
      "982                                          Mad Max 2   \n",
      "\n",
      "                           Genre  \n",
      "5       Action, Adventure, Drama  \n",
      "8      Action, Adventure, Sci-Fi  \n",
      "10      Action, Adventure, Drama  \n",
      "13      Action, Adventure, Drama  \n",
      "16    Action, Adventure, Fantasy  \n",
      "..                           ...  \n",
      "914   Action, Adventure, Mystery  \n",
      "927    Action, Adventure, Family  \n",
      "944     Action, Adventure, Drama  \n",
      "963  Action, Adventure, Thriller  \n",
      "982    Action, Adventure, Sci-Fi  \n",
      "\n",
      "[83 rows x 2 columns]\n"
     ]
    }
   ],
   "source": [
    "# Filter movies that have both \"Action\" and \"Adventure\" in the Genre column\n",
    "Action_Adventure = df[df[\"Genre\"].str.contains(\"Action\") & df[\"Genre\"].str.contains(\"Adventure\")]\n",
    "\n",
    "# Display the result\n",
    "print(Action_Adventure[[\"Series_Title\", \"Genre\"]])\n"
   ]
  },
  {
   "cell_type": "code",
   "execution_count": null,
   "metadata": {},
   "outputs": [
    {
     "name": "stdout",
     "output_type": "stream",
     "text": [
      "                                      Series_Title        Gross\n",
      "1                                    The Godfather  134966411.0\n",
      "2                                  The Dark Knight  534858444.0\n",
      "5    The Lord of the Rings: The Return of the King  377845905.0\n",
      "6                                     Pulp Fiction  107928762.0\n",
      "8                                        Inception  292576195.0\n",
      "..                                             ...          ...\n",
      "973                                     Home Alone  285761243.0\n",
      "976                             The Little Mermaid  111543479.0\n",
      "981                                 On Golden Pond  119285432.0\n",
      "988             Close Encounters of the Third Kind  132088635.0\n",
      "992                                The Jungle Book  141843612.0\n",
      "\n",
      "[187 rows x 2 columns]\n"
     ]
    }
   ],
   "source": [
    "# Remove commas from the 'Gross' column and convert to numeric, coerce errors to NaN (for invalid entries)\n",
    "df[\"Gross\"] = pd.to_numeric(df[\"Gross\"].str.replace(\",\", \"\", regex=True), errors=\"coerce\")\n",
    "\n",
    "# Filter movies with gross earnings greater than $100 million\n",
    "movies_above_100M = df[df[\"Gross\"] > 100_000_000]\n",
    "print(movies_above_100M[[\"Series_Title\", \"Gross\"]])"
   ]
  },
  {
   "cell_type": "code",
   "execution_count": null,
   "metadata": {},
   "outputs": [
    {
     "name": "stdout",
     "output_type": "stream",
     "text": [
      "                                      Series_Title  IMDB_Rating  Runtime\n",
      "0                         The Shawshank Redemption          9.3      142\n",
      "1                                    The Godfather          9.2      175\n",
      "2                                  The Dark Knight          9.0      152\n",
      "3                           The Godfather: Part II          9.0      202\n",
      "5    The Lord of the Rings: The Return of the King          8.9      201\n",
      "..                                             ...          ...      ...\n",
      "437                            Anatomy of a Murder          8.0      161\n",
      "447                       A Streetcar Named Desire          8.0      122\n",
      "454                    The Best Years of Our Lives          8.0      170\n",
      "457                            The Grapes of Wrath          8.0      129\n",
      "461                 All Quiet on the Western Front          8.0      152\n",
      "\n",
      "[264 rows x 3 columns]\n"
     ]
    }
   ],
   "source": [
    "# Step 1: Calculate the average rating\n",
    "average_rating = df[\"IMDB_Rating\"].mean()\n",
    "\n",
    "# Step 2: Filter movies with rating above average and runtime greater than 120 minutes\n",
    "df[\"Runtime\"] = df[\"Runtime\"].str.replace(\" min\", \"\", regex=True).astype(\"int64\")  # Convert runtime to int\n",
    "movies_above_avg_rating_and_runtime = df[(df[\"IMDB_Rating\"] > average_rating) & (df[\"Runtime\"] > 120)]\n",
    "print(movies_above_avg_rating_and_runtime[[\"Series_Title\", \"IMDB_Rating\", \"Runtime\"]])\n"
   ]
  }
 ],
 "metadata": {
  "kernelspec": {
   "display_name": "base",
   "language": "python",
   "name": "python3"
  },
  "language_info": {
   "codemirror_mode": {
    "name": "ipython",
    "version": 3
   },
   "file_extension": ".py",
   "mimetype": "text/x-python",
   "name": "python",
   "nbconvert_exporter": "python",
   "pygments_lexer": "ipython3",
   "version": "3.12.7"
  }
 },
 "nbformat": 4,
 "nbformat_minor": 2
}
