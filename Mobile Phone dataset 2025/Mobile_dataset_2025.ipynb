{
 "cells": [
  {
   "cell_type": "code",
   "execution_count": 1,
   "metadata": {},
   "outputs": [],
   "source": [
    "import pandas as pd\n",
    "import numpy as np"
   ]
  },
  {
   "cell_type": "markdown",
   "metadata": {},
   "source": [
    "Load the dataset using pandas.\n",
    "Display the first 5 rows of the dataset.\n"
   ]
  },
  {
   "cell_type": "code",
   "execution_count": 2,
   "metadata": {},
   "outputs": [
    {
     "data": {
      "text/html": [
       "<div>\n",
       "<style scoped>\n",
       "    .dataframe tbody tr th:only-of-type {\n",
       "        vertical-align: middle;\n",
       "    }\n",
       "\n",
       "    .dataframe tbody tr th {\n",
       "        vertical-align: top;\n",
       "    }\n",
       "\n",
       "    .dataframe thead th {\n",
       "        text-align: right;\n",
       "    }\n",
       "</style>\n",
       "<table border=\"1\" class=\"dataframe\">\n",
       "  <thead>\n",
       "    <tr style=\"text-align: right;\">\n",
       "      <th></th>\n",
       "      <th>Company Name</th>\n",
       "      <th>Model Name</th>\n",
       "      <th>Mobile Weight</th>\n",
       "      <th>RAM</th>\n",
       "      <th>Front Camera</th>\n",
       "      <th>Back Camera</th>\n",
       "      <th>Processor</th>\n",
       "      <th>Battery Capacity</th>\n",
       "      <th>Screen Size</th>\n",
       "      <th>Launched Price (Pakistan)</th>\n",
       "      <th>Launched Price (India)</th>\n",
       "      <th>Launched Price (China)</th>\n",
       "      <th>Launched Price (USA)</th>\n",
       "      <th>Launched Price (Dubai)</th>\n",
       "      <th>Launched Year</th>\n",
       "    </tr>\n",
       "  </thead>\n",
       "  <tbody>\n",
       "    <tr>\n",
       "      <th>0</th>\n",
       "      <td>Apple</td>\n",
       "      <td>iPhone 16 128GB</td>\n",
       "      <td>174g</td>\n",
       "      <td>6GB</td>\n",
       "      <td>12MP</td>\n",
       "      <td>48MP</td>\n",
       "      <td>A17 Bionic</td>\n",
       "      <td>3,600mAh</td>\n",
       "      <td>6.1 inches</td>\n",
       "      <td>PKR 224,999</td>\n",
       "      <td>INR 79,999</td>\n",
       "      <td>CNY 5,799</td>\n",
       "      <td>USD 799</td>\n",
       "      <td>AED 2,799</td>\n",
       "      <td>2024</td>\n",
       "    </tr>\n",
       "    <tr>\n",
       "      <th>1</th>\n",
       "      <td>Apple</td>\n",
       "      <td>iPhone 16 256GB</td>\n",
       "      <td>174g</td>\n",
       "      <td>6GB</td>\n",
       "      <td>12MP</td>\n",
       "      <td>48MP</td>\n",
       "      <td>A17 Bionic</td>\n",
       "      <td>3,600mAh</td>\n",
       "      <td>6.1 inches</td>\n",
       "      <td>PKR 234,999</td>\n",
       "      <td>INR 84,999</td>\n",
       "      <td>CNY 6,099</td>\n",
       "      <td>USD 849</td>\n",
       "      <td>AED 2,999</td>\n",
       "      <td>2024</td>\n",
       "    </tr>\n",
       "    <tr>\n",
       "      <th>2</th>\n",
       "      <td>Apple</td>\n",
       "      <td>iPhone 16 512GB</td>\n",
       "      <td>174g</td>\n",
       "      <td>6GB</td>\n",
       "      <td>12MP</td>\n",
       "      <td>48MP</td>\n",
       "      <td>A17 Bionic</td>\n",
       "      <td>3,600mAh</td>\n",
       "      <td>6.1 inches</td>\n",
       "      <td>PKR 244,999</td>\n",
       "      <td>INR 89,999</td>\n",
       "      <td>CNY 6,499</td>\n",
       "      <td>USD 899</td>\n",
       "      <td>AED 3,199</td>\n",
       "      <td>2024</td>\n",
       "    </tr>\n",
       "  </tbody>\n",
       "</table>\n",
       "</div>"
      ],
      "text/plain": [
       "  Company Name       Model Name Mobile Weight  RAM Front Camera Back Camera  \\\n",
       "0        Apple  iPhone 16 128GB          174g  6GB         12MP        48MP   \n",
       "1        Apple  iPhone 16 256GB          174g  6GB         12MP        48MP   \n",
       "2        Apple  iPhone 16 512GB          174g  6GB         12MP        48MP   \n",
       "\n",
       "    Processor Battery Capacity Screen Size Launched Price (Pakistan)  \\\n",
       "0  A17 Bionic         3,600mAh  6.1 inches               PKR 224,999   \n",
       "1  A17 Bionic         3,600mAh  6.1 inches               PKR 234,999   \n",
       "2  A17 Bionic         3,600mAh  6.1 inches               PKR 244,999   \n",
       "\n",
       "  Launched Price (India) Launched Price (China) Launched Price (USA)  \\\n",
       "0             INR 79,999              CNY 5,799              USD 799   \n",
       "1             INR 84,999              CNY 6,099              USD 849   \n",
       "2             INR 89,999              CNY 6,499              USD 899   \n",
       "\n",
       "  Launched Price (Dubai)  Launched Year  \n",
       "0              AED 2,799           2024  \n",
       "1              AED 2,999           2024  \n",
       "2              AED 3,199           2024  "
      ]
     },
     "execution_count": 2,
     "metadata": {},
     "output_type": "execute_result"
    }
   ],
   "source": [
    "## Load the dataset using pandas.\n",
    "## Display the first 5 rows of the dataset.\n",
    "\n",
    "df = pd.read_csv(\"Mobile_Dataset_2025.csv\", encoding= 'latin-1')\n",
    "df.head(3)"
   ]
  },
  {
   "cell_type": "markdown",
   "metadata": {},
   "source": [
    "Print the number of rows and columns in the dataset.\n",
    "Check for missing values in each column."
   ]
  },
  {
   "cell_type": "code",
   "execution_count": 3,
   "metadata": {},
   "outputs": [
    {
     "name": "stdout",
     "output_type": "stream",
     "text": [
      "Number of rows and columns: (930, 15)\n"
     ]
    }
   ],
   "source": [
    "# Print the number of rows and columns\n",
    "print(\"Number of rows and columns:\", df.shape)\n"
   ]
  },
  {
   "cell_type": "code",
   "execution_count": 4,
   "metadata": {},
   "outputs": [
    {
     "data": {
      "text/plain": [
       "Company Name                 False\n",
       "Model Name                   False\n",
       "Mobile Weight                False\n",
       "RAM                          False\n",
       "Front Camera                 False\n",
       "Back Camera                  False\n",
       "Processor                    False\n",
       "Battery Capacity             False\n",
       "Screen Size                  False\n",
       "Launched Price (Pakistan)    False\n",
       "Launched Price (India)       False\n",
       "Launched Price (China)       False\n",
       "Launched Price (USA)         False\n",
       "Launched Price (Dubai)       False\n",
       "Launched Year                False\n",
       "dtype: bool"
      ]
     },
     "execution_count": 4,
     "metadata": {},
     "output_type": "execute_result"
    }
   ],
   "source": [
    "## Check for missing values in each column.\n",
    "df.isnull().any()\n",
    "## There no null value."
   ]
  },
  {
   "cell_type": "code",
   "execution_count": 5,
   "metadata": {},
   "outputs": [
    {
     "data": {
      "text/html": [
       "<div>\n",
       "<style scoped>\n",
       "    .dataframe tbody tr th:only-of-type {\n",
       "        vertical-align: middle;\n",
       "    }\n",
       "\n",
       "    .dataframe tbody tr th {\n",
       "        vertical-align: top;\n",
       "    }\n",
       "\n",
       "    .dataframe thead th {\n",
       "        text-align: right;\n",
       "    }\n",
       "</style>\n",
       "<table border=\"1\" class=\"dataframe\">\n",
       "  <thead>\n",
       "    <tr style=\"text-align: right;\">\n",
       "      <th></th>\n",
       "      <th>Company Name</th>\n",
       "      <th>Model Name</th>\n",
       "      <th>Mobile Weight</th>\n",
       "      <th>RAM</th>\n",
       "      <th>Front Camera</th>\n",
       "      <th>Back Camera</th>\n",
       "      <th>Processor</th>\n",
       "      <th>Battery Capacity</th>\n",
       "      <th>Screen Size</th>\n",
       "      <th>Launched Price (Pakistan)</th>\n",
       "      <th>Launched Price (India)</th>\n",
       "      <th>Launched Price (China)</th>\n",
       "      <th>Launched Price (USA)</th>\n",
       "      <th>Launched Price (Dubai)</th>\n",
       "      <th>Launched Year</th>\n",
       "    </tr>\n",
       "  </thead>\n",
       "  <tbody>\n",
       "    <tr>\n",
       "      <th>0</th>\n",
       "      <td>Apple</td>\n",
       "      <td>iPhone 16 128GB</td>\n",
       "      <td>174g</td>\n",
       "      <td>6GB</td>\n",
       "      <td>12MP</td>\n",
       "      <td>48MP</td>\n",
       "      <td>A17 Bionic</td>\n",
       "      <td>3,600mAh</td>\n",
       "      <td>6.1 inches</td>\n",
       "      <td>PKR 224,999</td>\n",
       "      <td>INR 79,999</td>\n",
       "      <td>CNY 5,799</td>\n",
       "      <td>USD 799</td>\n",
       "      <td>AED 2,799</td>\n",
       "      <td>2024</td>\n",
       "    </tr>\n",
       "    <tr>\n",
       "      <th>1</th>\n",
       "      <td>Apple</td>\n",
       "      <td>iPhone 16 256GB</td>\n",
       "      <td>174g</td>\n",
       "      <td>6GB</td>\n",
       "      <td>12MP</td>\n",
       "      <td>48MP</td>\n",
       "      <td>A17 Bionic</td>\n",
       "      <td>3,600mAh</td>\n",
       "      <td>6.1 inches</td>\n",
       "      <td>PKR 234,999</td>\n",
       "      <td>INR 84,999</td>\n",
       "      <td>CNY 6,099</td>\n",
       "      <td>USD 849</td>\n",
       "      <td>AED 2,999</td>\n",
       "      <td>2024</td>\n",
       "    </tr>\n",
       "  </tbody>\n",
       "</table>\n",
       "</div>"
      ],
      "text/plain": [
       "  Company Name       Model Name Mobile Weight  RAM Front Camera Back Camera  \\\n",
       "0        Apple  iPhone 16 128GB          174g  6GB         12MP        48MP   \n",
       "1        Apple  iPhone 16 256GB          174g  6GB         12MP        48MP   \n",
       "\n",
       "    Processor Battery Capacity Screen Size Launched Price (Pakistan)  \\\n",
       "0  A17 Bionic         3,600mAh  6.1 inches               PKR 224,999   \n",
       "1  A17 Bionic         3,600mAh  6.1 inches               PKR 234,999   \n",
       "\n",
       "  Launched Price (India) Launched Price (China) Launched Price (USA)  \\\n",
       "0             INR 79,999              CNY 5,799              USD 799   \n",
       "1             INR 84,999              CNY 6,099              USD 849   \n",
       "\n",
       "  Launched Price (Dubai)  Launched Year  \n",
       "0              AED 2,799           2024  \n",
       "1              AED 2,999           2024  "
      ]
     },
     "execution_count": 5,
     "metadata": {},
     "output_type": "execute_result"
    }
   ],
   "source": [
    "df.head(2)"
   ]
  },
  {
   "cell_type": "markdown",
   "metadata": {},
   "source": [
    "1. Convert columns like Price, RAM, and Storage to numeric types if needed.\n",
    "2. Handle any missing values (either fill or drop them appropriately).\n"
   ]
  },
  {
   "cell_type": "code",
   "execution_count": 6,
   "metadata": {},
   "outputs": [
    {
     "data": {
      "text/html": [
       "<div>\n",
       "<style scoped>\n",
       "    .dataframe tbody tr th:only-of-type {\n",
       "        vertical-align: middle;\n",
       "    }\n",
       "\n",
       "    .dataframe tbody tr th {\n",
       "        vertical-align: top;\n",
       "    }\n",
       "\n",
       "    .dataframe thead th {\n",
       "        text-align: right;\n",
       "    }\n",
       "</style>\n",
       "<table border=\"1\" class=\"dataframe\">\n",
       "  <thead>\n",
       "    <tr style=\"text-align: right;\">\n",
       "      <th></th>\n",
       "      <th>Company Name</th>\n",
       "      <th>Model Name</th>\n",
       "      <th>Mobile Weight</th>\n",
       "      <th>RAM</th>\n",
       "      <th>Front Camera</th>\n",
       "      <th>Back Camera</th>\n",
       "      <th>Processor</th>\n",
       "      <th>Battery Capacity</th>\n",
       "      <th>Screen Size</th>\n",
       "      <th>Launched Price (Pakistan)</th>\n",
       "      <th>Launched Price (India)</th>\n",
       "      <th>Launched Price (China)</th>\n",
       "      <th>Launched Price (USA)</th>\n",
       "      <th>Launched Price (Dubai)</th>\n",
       "      <th>Launched Year</th>\n",
       "      <th>Storage</th>\n",
       "    </tr>\n",
       "  </thead>\n",
       "  <tbody>\n",
       "    <tr>\n",
       "      <th>0</th>\n",
       "      <td>Apple</td>\n",
       "      <td>iPhone 16 128GB</td>\n",
       "      <td>174g</td>\n",
       "      <td>6.0</td>\n",
       "      <td>12MP</td>\n",
       "      <td>48MP</td>\n",
       "      <td>A17 Bionic</td>\n",
       "      <td>3,600mAh</td>\n",
       "      <td>6.1 inches</td>\n",
       "      <td>224999.0</td>\n",
       "      <td>79999</td>\n",
       "      <td>5799.0</td>\n",
       "      <td>799.0</td>\n",
       "      <td>2799</td>\n",
       "      <td>2024</td>\n",
       "      <td>128.0</td>\n",
       "    </tr>\n",
       "    <tr>\n",
       "      <th>1</th>\n",
       "      <td>Apple</td>\n",
       "      <td>iPhone 16 256GB</td>\n",
       "      <td>174g</td>\n",
       "      <td>6.0</td>\n",
       "      <td>12MP</td>\n",
       "      <td>48MP</td>\n",
       "      <td>A17 Bionic</td>\n",
       "      <td>3,600mAh</td>\n",
       "      <td>6.1 inches</td>\n",
       "      <td>234999.0</td>\n",
       "      <td>84999</td>\n",
       "      <td>6099.0</td>\n",
       "      <td>849.0</td>\n",
       "      <td>2999</td>\n",
       "      <td>2024</td>\n",
       "      <td>256.0</td>\n",
       "    </tr>\n",
       "  </tbody>\n",
       "</table>\n",
       "</div>"
      ],
      "text/plain": [
       "  Company Name       Model Name Mobile Weight  RAM Front Camera Back Camera  \\\n",
       "0        Apple  iPhone 16 128GB          174g  6.0         12MP        48MP   \n",
       "1        Apple  iPhone 16 256GB          174g  6.0         12MP        48MP   \n",
       "\n",
       "    Processor Battery Capacity Screen Size  Launched Price (Pakistan)  \\\n",
       "0  A17 Bionic         3,600mAh  6.1 inches                   224999.0   \n",
       "1  A17 Bionic         3,600mAh  6.1 inches                   234999.0   \n",
       "\n",
       "   Launched Price (India)  Launched Price (China)  Launched Price (USA)  \\\n",
       "0                   79999                  5799.0                 799.0   \n",
       "1                   84999                  6099.0                 849.0   \n",
       "\n",
       "   Launched Price (Dubai)  Launched Year  Storage  \n",
       "0                    2799           2024    128.0  \n",
       "1                    2999           2024    256.0  "
      ]
     },
     "execution_count": 6,
     "metadata": {},
     "output_type": "execute_result"
    }
   ],
   "source": [
    "# Removing the currency from the price\n",
    "df['Launched Price (Pakistan)'] = df['Launched Price (Pakistan)'].replace({'PKR': '', ',': ''}, regex=True)\n",
    "df['Launched Price (India)'] = df['Launched Price (India)'].replace({'INR': '', ',': ''}, regex=True)\n",
    "df['Launched Price (China)'] = df['Launched Price (China)'].replace({'CNY': '', ',': ''}, regex=True)\n",
    "df['Launched Price (USA)'] = df['Launched Price (USA)'].replace({'USD': '', ',': ''}, regex=True)\n",
    "df['Launched Price (Dubai)'] = df['Launched Price (Dubai)'].replace({'AED': '', ',': ''}, regex=True)\n",
    "\n",
    "# Convert the 'Price' columns to numeric (float)\n",
    "df['Launched Price (Pakistan)'] = pd.to_numeric(df['Launched Price (Pakistan)'], errors='coerce')\n",
    "df['Launched Price (India)'] = pd.to_numeric(df['Launched Price (India)'], errors='coerce')\n",
    "df['Launched Price (China)'] = pd.to_numeric(df['Launched Price (China)'], errors='coerce')\n",
    "df['Launched Price (USA)'] = pd.to_numeric(df['Launched Price (USA)'], errors='coerce')\n",
    "df['Launched Price (Dubai)'] = pd.to_numeric(df['Launched Price (Dubai)'], errors='coerce')\n",
    "\n",
    "# Removing 'GB' from the 'RAM' column\n",
    "df[\"RAM\"] = df[\"RAM\"].replace(\"GB\", \"\", regex=True)\n",
    "\n",
    "# Convert the 'RAM' column to numeric (float)\n",
    "df[\"RAM\"] = pd.to_numeric(df[\"RAM\"], errors='coerce')\n",
    "\n",
    "# Extract storage from 'Model Name'\n",
    "df['Storage'] = df['Model Name'].str.extract(r'(\\d+)GB')  # Extract numbers followed by \"GB\"\n",
    "df['Storage'] = pd.to_numeric(df['Storage'], errors='coerce')\n",
    "\n",
    "df.head(2)\n"
   ]
  },
  {
   "cell_type": "markdown",
   "metadata": {},
   "source": [
    "Handle any missing values (either fill or drop them appropriately)."
   ]
  },
  {
   "cell_type": "code",
   "execution_count": 7,
   "metadata": {},
   "outputs": [
    {
     "data": {
      "text/plain": [
       "Company Name                 False\n",
       "Model Name                   False\n",
       "Mobile Weight                False\n",
       "RAM                           True\n",
       "Front Camera                 False\n",
       "Back Camera                  False\n",
       "Processor                    False\n",
       "Battery Capacity             False\n",
       "Screen Size                  False\n",
       "Launched Price (Pakistan)     True\n",
       "Launched Price (India)       False\n",
       "Launched Price (China)        True\n",
       "Launched Price (USA)         False\n",
       "Launched Price (Dubai)       False\n",
       "Launched Year                False\n",
       "Storage                       True\n",
       "dtype: bool"
      ]
     },
     "execution_count": 7,
     "metadata": {},
     "output_type": "execute_result"
    }
   ],
   "source": [
    "## check if any missing values are present or not\n",
    "df.isnull().any()"
   ]
  },
  {
   "cell_type": "code",
   "execution_count": 8,
   "metadata": {},
   "outputs": [],
   "source": [
    "## Fill missing value with 0 or any other value\n",
    "df[\"RAM\"] = df[\"RAM\"].fillna(0)\n",
    "df[\"Launched Price (Pakistan)\"] = df[\"Launched Price (Pakistan)\"].fillna(\"Unknown\")\n",
    "df[\"Launched Price (China)\"] = df[\"Launched Price (China)\"].fillna(\"Unknown\")\n",
    "df[\"Storage\"] = df[\"Storage\"].fillna(0)"
   ]
  },
  {
   "cell_type": "code",
   "execution_count": 9,
   "metadata": {},
   "outputs": [
    {
     "data": {
      "text/plain": [
       "Company Name                 False\n",
       "Model Name                   False\n",
       "Mobile Weight                False\n",
       "RAM                          False\n",
       "Front Camera                 False\n",
       "Back Camera                  False\n",
       "Processor                    False\n",
       "Battery Capacity             False\n",
       "Screen Size                  False\n",
       "Launched Price (Pakistan)    False\n",
       "Launched Price (India)       False\n",
       "Launched Price (China)       False\n",
       "Launched Price (USA)         False\n",
       "Launched Price (Dubai)       False\n",
       "Launched Year                False\n",
       "Storage                      False\n",
       "dtype: bool"
      ]
     },
     "execution_count": 9,
     "metadata": {},
     "output_type": "execute_result"
    }
   ],
   "source": [
    "df.isnull().any()"
   ]
  },
  {
   "cell_type": "markdown",
   "metadata": {},
   "source": [
    "1. Find the average (mean), maximum, and minimum price of all phones.\n",
    "2. Use NumPy to calculate the standard deviation of the Price column.\n"
   ]
  },
  {
   "cell_type": "code",
   "execution_count": 10,
   "metadata": {},
   "outputs": [
    {
     "name": "stdout",
     "output_type": "stream",
     "text": [
      "Average Prices:\n",
      "Launched Price (Pakistan)    125436.063509\n",
      "Launched Price (India)        50576.818280\n",
      "Launched Price (China)         3795.185345\n",
      "Launched Price (USA)            625.515763\n",
      "Launched Price (Dubai)         2183.933333\n",
      "dtype: float64\n",
      "\n",
      "Maximum Prices:\n",
      "Launched Price (Pakistan)    604999.0\n",
      "Launched Price (India)       274999.0\n",
      "Launched Price (China)        17999.0\n",
      "Launched Price (USA)          39622.0\n",
      "Launched Price (Dubai)        11099.0\n",
      "dtype: float64\n",
      "\n",
      "Minimum Prices:\n",
      "Launched Price (Pakistan)    15999.0\n",
      "Launched Price (India)        5999.0\n",
      "Launched Price (China)         499.0\n",
      "Launched Price (USA)            79.0\n",
      "Launched Price (Dubai)         299.0\n",
      "dtype: float64\n"
     ]
    }
   ],
   "source": [
    "# Removing the currency from the price and converting to numeric\n",
    "price_columns = [\"Launched Price (Pakistan)\", \"Launched Price (India)\", \n",
    "                 \"Launched Price (China)\", \"Launched Price (USA)\", \n",
    "                 \"Launched Price (Dubai)\"]\n",
    "\n",
    "for col in price_columns:\n",
    "    df[col] = df[col].astype(str).replace({'PKR': '', 'INR': '', 'CNY': '', \n",
    "                                         'USD': '', 'AED': '', ',': ''}, regex=True)\n",
    "    df[col] = pd.to_numeric(df[col], errors='coerce')\n",
    "\n",
    "# Calculate statistics\n",
    "avg_price = df[price_columns].mean()\n",
    "max_price = df[price_columns].max()   \n",
    "min_price = df[price_columns].min()   \n",
    "\n",
    "# Display results\n",
    "print(\"Average Prices:\")\n",
    "print(avg_price)\n",
    "print(\"\\nMaximum Prices:\")\n",
    "print(max_price)\n",
    "print(\"\\nMinimum Prices:\")\n",
    "print(min_price)"
   ]
  },
  {
   "cell_type": "code",
   "execution_count": 11,
   "metadata": {},
   "outputs": [
    {
     "data": {
      "text/plain": [
       "Company Name                 False\n",
       "Model Name                   False\n",
       "Mobile Weight                False\n",
       "RAM                          False\n",
       "Front Camera                 False\n",
       "Back Camera                  False\n",
       "Processor                    False\n",
       "Battery Capacity             False\n",
       "Screen Size                  False\n",
       "Launched Price (Pakistan)     True\n",
       "Launched Price (India)       False\n",
       "Launched Price (China)        True\n",
       "Launched Price (USA)         False\n",
       "Launched Price (Dubai)       False\n",
       "Launched Year                False\n",
       "Storage                      False\n",
       "dtype: bool"
      ]
     },
     "execution_count": 11,
     "metadata": {},
     "output_type": "execute_result"
    }
   ],
   "source": [
    "df.isnull().any()"
   ]
  },
  {
   "cell_type": "code",
   "execution_count": 12,
   "metadata": {},
   "outputs": [],
   "source": [
    "# Handling null value\n",
    "df[\"Launched Price (Pakistan)\"] = df[\"Launched Price (Pakistan)\"].fillna(\"Unknown\")\n",
    "df[\"Launched Price (China)\"] = df[\"Launched Price (China)\"].fillna(\"Unknown\")"
   ]
  },
  {
   "cell_type": "code",
   "execution_count": 13,
   "metadata": {},
   "outputs": [
    {
     "data": {
      "text/plain": [
       "Company Name                 False\n",
       "Model Name                   False\n",
       "Mobile Weight                False\n",
       "RAM                          False\n",
       "Front Camera                 False\n",
       "Back Camera                  False\n",
       "Processor                    False\n",
       "Battery Capacity             False\n",
       "Screen Size                  False\n",
       "Launched Price (Pakistan)    False\n",
       "Launched Price (India)       False\n",
       "Launched Price (China)       False\n",
       "Launched Price (USA)         False\n",
       "Launched Price (Dubai)       False\n",
       "Launched Year                False\n",
       "Storage                      False\n",
       "dtype: bool"
      ]
     },
     "execution_count": 13,
     "metadata": {},
     "output_type": "execute_result"
    }
   ],
   "source": [
    "df.isnull().any()"
   ]
  },
  {
   "cell_type": "code",
   "execution_count": 14,
   "metadata": {},
   "outputs": [
    {
     "name": "stdout",
     "output_type": "stream",
     "text": [
      "Launched Price (Pakistan)    101538.828882\n",
      "Launched Price (India)        40938.151836\n",
      "Launched Price (China)         2707.492929\n",
      "Launched Price (USA)           1346.836521\n",
      "Launched Price (Dubai)         1564.789678\n",
      "dtype: float64\n"
     ]
    }
   ],
   "source": [
    "# Removing the currency from the price and converting to numeric\n",
    "price_columns = [\"Launched Price (Pakistan)\", \"Launched Price (India)\", \n",
    "                 \"Launched Price (China)\", \"Launched Price (USA)\", \n",
    "                 \"Launched Price (Dubai)\"]\n",
    "\n",
    "for col in price_columns:\n",
    "    df[col] = df[col].astype(str).replace({'PKR': '', 'INR': '', 'CNY': '', \n",
    "                                         'USD': '', 'AED': '', ',': ''}, regex=True)\n",
    "    df[col] = pd.to_numeric(df[col], errors='coerce')\n",
    "\n",
    "## Use NumPy to calculate the standard deviation of the Price column.\n",
    "std = np.std(df[price_columns], axis=0)\n",
    "print(std)"
   ]
  },
  {
   "cell_type": "markdown",
   "metadata": {},
   "source": [
    "1. List all phones with more than 6 GB of RAM.\n",
    "2. Show phones that are priced under ₹30,000 and have at least 128 GB storage.\n"
   ]
  },
  {
   "cell_type": "code",
   "execution_count": 15,
   "metadata": {},
   "outputs": [
    {
     "name": "stdout",
     "output_type": "stream",
     "text": [
      "                  Model Name   RAM\n",
      "7        iPhone 16 Pro 256GB   8.0\n",
      "8        iPhone 16 Pro 512GB   8.0\n",
      "10   iPhone 16 Pro Max 256GB   8.0\n",
      "11   iPhone 16 Pro Max 512GB   8.0\n",
      "19       iPhone 15 Pro 256GB   8.0\n",
      "..                       ...   ...\n",
      "925             Pad 5G 128GB   8.0\n",
      "926             Pad 5G 256GB   8.0\n",
      "927     Galaxy Z Fold6 256GB  12.0\n",
      "928     Galaxy Z Fold6 512GB  12.0\n",
      "929       Galaxy Z Fold6 1TB  12.0\n",
      "\n",
      "[533 rows x 2 columns]\n"
     ]
    }
   ],
   "source": [
    "## List all phones with more than 6 GB of RAM.\n",
    "\n",
    "# Removing 'GB' from the 'RAM' column\n",
    "df[\"RAM\"] = df[\"RAM\"].replace(\"GB\", \"\", regex=True)\n",
    "\n",
    "# Convert the 'RAM' column to numeric (float)\n",
    "df[\"RAM\"] = pd.to_numeric(df[\"RAM\"], errors='coerce')\n",
    "\n",
    "phone_with_more_than_6GB = df[df[\"RAM\"] > 6]\n",
    "print(phone_with_more_than_6GB[[\"Model Name\", \"RAM\"]])"
   ]
  },
  {
   "cell_type": "markdown",
   "metadata": {},
   "source": [
    "Show phones that are priced under ₹30,000 and have at least 128 GB storage."
   ]
  },
  {
   "cell_type": "code",
   "execution_count": 17,
   "metadata": {},
   "outputs": [
    {
     "name": "stdout",
     "output_type": "stream",
     "text": [
      "     Launched Price (India)   RAM\n",
      "399                   29999  12.0\n",
      "407                   26999  12.0\n",
      "424                   20000  12.0\n",
      "431                   27999  12.0\n",
      "438                   20000  12.0\n",
      "440                   24999  12.0\n",
      "444                   22999  12.0\n",
      "448                   27999  12.0\n",
      "471                   29999  12.0\n",
      "475                   21999  12.0\n",
      "481                   24999  12.0\n",
      "571                   22999  12.0\n",
      "603                   29999  12.0\n",
      "756                   24999  12.0\n",
      "761                   27999  12.0\n",
      "766                   24999  12.0\n",
      "767                   27999  12.0\n",
      "770                   22999  12.0\n",
      "777                   29999  12.0\n"
     ]
    }
   ],
   "source": [
    "\n",
    "## Show phones that are priced under ₹30,000 and have at least 128 GB storage.\n",
    "price_under_30k = df[(df[\"Launched Price (India)\"] < 30000) & (df[\"RAM\"]>= 12)]\n",
    "print(price_under_30k[[\"Launched Price (India)\", \"RAM\"]])\n"
   ]
  },
  {
   "cell_type": "markdown",
   "metadata": {},
   "source": [
    "1. Create a new column named 'Price_Category':\n",
    " - Budget: Price ≤ ₹15,000\n",
    " - Mid-Range: ₹15,001 – ₹30,000\n",
    " - Premium: Price > ₹30,000"
   ]
  },
  {
   "cell_type": "code",
   "execution_count": 18,
   "metadata": {},
   "outputs": [
    {
     "data": {
      "text/html": [
       "<div>\n",
       "<style scoped>\n",
       "    .dataframe tbody tr th:only-of-type {\n",
       "        vertical-align: middle;\n",
       "    }\n",
       "\n",
       "    .dataframe tbody tr th {\n",
       "        vertical-align: top;\n",
       "    }\n",
       "\n",
       "    .dataframe thead th {\n",
       "        text-align: right;\n",
       "    }\n",
       "</style>\n",
       "<table border=\"1\" class=\"dataframe\">\n",
       "  <thead>\n",
       "    <tr style=\"text-align: right;\">\n",
       "      <th></th>\n",
       "      <th>Company Name</th>\n",
       "      <th>Model Name</th>\n",
       "      <th>Mobile Weight</th>\n",
       "      <th>RAM</th>\n",
       "      <th>Front Camera</th>\n",
       "      <th>Back Camera</th>\n",
       "      <th>Processor</th>\n",
       "      <th>Battery Capacity</th>\n",
       "      <th>Screen Size</th>\n",
       "      <th>Launched Price (Pakistan)</th>\n",
       "      <th>Launched Price (India)</th>\n",
       "      <th>Launched Price (China)</th>\n",
       "      <th>Launched Price (USA)</th>\n",
       "      <th>Launched Price (Dubai)</th>\n",
       "      <th>Launched Year</th>\n",
       "      <th>Storage</th>\n",
       "      <th>Price_Catogory</th>\n",
       "    </tr>\n",
       "  </thead>\n",
       "  <tbody>\n",
       "    <tr>\n",
       "      <th>0</th>\n",
       "      <td>Apple</td>\n",
       "      <td>iPhone 16 128GB</td>\n",
       "      <td>174g</td>\n",
       "      <td>6.0</td>\n",
       "      <td>12MP</td>\n",
       "      <td>48MP</td>\n",
       "      <td>A17 Bionic</td>\n",
       "      <td>3,600mAh</td>\n",
       "      <td>6.1 inches</td>\n",
       "      <td>224999.0</td>\n",
       "      <td>79999</td>\n",
       "      <td>5799.0</td>\n",
       "      <td>799.0</td>\n",
       "      <td>2799</td>\n",
       "      <td>2024</td>\n",
       "      <td>128.0</td>\n",
       "      <td>Premium</td>\n",
       "    </tr>\n",
       "    <tr>\n",
       "      <th>1</th>\n",
       "      <td>Apple</td>\n",
       "      <td>iPhone 16 256GB</td>\n",
       "      <td>174g</td>\n",
       "      <td>6.0</td>\n",
       "      <td>12MP</td>\n",
       "      <td>48MP</td>\n",
       "      <td>A17 Bionic</td>\n",
       "      <td>3,600mAh</td>\n",
       "      <td>6.1 inches</td>\n",
       "      <td>234999.0</td>\n",
       "      <td>84999</td>\n",
       "      <td>6099.0</td>\n",
       "      <td>849.0</td>\n",
       "      <td>2999</td>\n",
       "      <td>2024</td>\n",
       "      <td>256.0</td>\n",
       "      <td>Premium</td>\n",
       "    </tr>\n",
       "  </tbody>\n",
       "</table>\n",
       "</div>"
      ],
      "text/plain": [
       "  Company Name       Model Name Mobile Weight  RAM Front Camera Back Camera  \\\n",
       "0        Apple  iPhone 16 128GB          174g  6.0         12MP        48MP   \n",
       "1        Apple  iPhone 16 256GB          174g  6.0         12MP        48MP   \n",
       "\n",
       "    Processor Battery Capacity Screen Size  Launched Price (Pakistan)  \\\n",
       "0  A17 Bionic         3,600mAh  6.1 inches                   224999.0   \n",
       "1  A17 Bionic         3,600mAh  6.1 inches                   234999.0   \n",
       "\n",
       "   Launched Price (India)  Launched Price (China)  Launched Price (USA)  \\\n",
       "0                   79999                  5799.0                 799.0   \n",
       "1                   84999                  6099.0                 849.0   \n",
       "\n",
       "   Launched Price (Dubai)  Launched Year  Storage Price_Catogory  \n",
       "0                    2799           2024    128.0        Premium  \n",
       "1                    2999           2024    256.0        Premium  "
      ]
     },
     "execution_count": 18,
     "metadata": {},
     "output_type": "execute_result"
    }
   ],
   "source": [
    "def price_categories(price):\n",
    "    if price <= 15000:\n",
    "        return 'Budget'\n",
    "    elif 15001 <= price <= 30000:\n",
    "        return 'Mid-Range'\n",
    "    else:\n",
    "        return 'Premium'\n",
    "    \n",
    "df[\"Price_Catogory\"] = df[\"Launched Price (India)\"].apply(price_categories)\n",
    "df.head(2)"
   ]
  },
  {
   "cell_type": "markdown",
   "metadata": {},
   "source": [
    "Create a new column 'Is_5G' that indicates whether the phone supports 5G (True/False"
   ]
  },
  {
   "cell_type": "code",
   "execution_count": 19,
   "metadata": {},
   "outputs": [],
   "source": [
    "df[\"Is_5G\"] = (df[\"RAM\"] == 5)"
   ]
  },
  {
   "cell_type": "code",
   "execution_count": 20,
   "metadata": {},
   "outputs": [
    {
     "data": {
      "text/plain": [
       "0      False\n",
       "1      False\n",
       "2      False\n",
       "3      False\n",
       "4      False\n",
       "       ...  \n",
       "925    False\n",
       "926    False\n",
       "927    False\n",
       "928    False\n",
       "929    False\n",
       "Name: Is_5G, Length: 930, dtype: bool"
      ]
     },
     "execution_count": 20,
     "metadata": {},
     "output_type": "execute_result"
    }
   ],
   "source": [
    "df[\"Is_5G\"]"
   ]
  },
  {
   "cell_type": "code",
   "execution_count": 21,
   "metadata": {},
   "outputs": [],
   "source": [
    "df = pd.read_csv(\"Mobile_Dataset_2025.csv\", encoding='latin-1')"
   ]
  },
  {
   "cell_type": "markdown",
   "metadata": {},
   "source": [
    "1. Group the dataset by Brand and calculate the average price of each brand.\n",
    "2. Count how many phones are offered by each brand.\n"
   ]
  },
  {
   "cell_type": "code",
   "execution_count": 22,
   "metadata": {},
   "outputs": [
    {
     "name": "stdout",
     "output_type": "stream",
     "text": [
      "Company Name\n",
      "Apple       102998.597938\n",
      "Google       70332.333333\n",
      "Honor        48850.648352\n",
      "Huawei      102798.571429\n",
      "Infinix      17320.428571\n",
      "Lenovo       25392.400000\n",
      "Motorola     33692.548387\n",
      "Nokia        13771.727273\n",
      "OnePlus      45734.849057\n",
      "Oppo         43758.449612\n",
      "POCO         22649.000000\n",
      "Poco         24999.000000\n",
      "Realme       26147.652174\n",
      "Samsung      63605.500000\n",
      "Sony         91665.666667\n",
      "Tecno        36806.692308\n",
      "Vivo         35770.267442\n",
      "Xiaomi       57258.259259\n",
      "iQOO         43999.000000\n",
      "Name: Launched Price (India), dtype: float64\n"
     ]
    }
   ],
   "source": [
    "# Clean and convert the price column (remove currency symbols & commas)\n",
    "df[\"Launched Price (India)\"] = df[\"Launched Price (India)\"].str.replace(\"INR\", \"\", regex=True)\n",
    "df[\"Launched Price (India)\"] = df[\"Launched Price (India)\"].str.replace(\",\", \"\").astype(float)\n",
    "\n",
    "# Group by Brand (Company Name) and calculate the average price\n",
    "average_price_by_brand = df.groupby(\"Company Name\")[\"Launched Price (India)\"].mean()\n",
    "\n",
    "# Print result\n",
    "print(average_price_by_brand)"
   ]
  },
  {
   "cell_type": "markdown",
   "metadata": {},
   "source": [
    "2.Count how many phones are offered by each brand."
   ]
  },
  {
   "cell_type": "code",
   "execution_count": 23,
   "metadata": {},
   "outputs": [],
   "source": [
    "phone_offered_by_each_brand = df[\"Company Name\"].value_counts()"
   ]
  },
  {
   "cell_type": "code",
   "execution_count": 24,
   "metadata": {},
   "outputs": [
    {
     "name": "stdout",
     "output_type": "stream",
     "text": [
      "Company Name\n",
      "Oppo        129\n",
      "Apple        97\n",
      "Honor        91\n",
      "Samsung      88\n",
      "Vivo         86\n",
      "Realme       69\n",
      "Motorola     62\n",
      "Infinix      56\n",
      "OnePlus      53\n",
      "Huawei       42\n",
      "Tecno        39\n",
      "POCO         30\n",
      "Xiaomi       27\n",
      "Google       21\n",
      "Lenovo       15\n",
      "Nokia        11\n",
      "Sony          9\n",
      "iQOO          3\n",
      "Poco          2\n",
      "Name: count, dtype: int64\n"
     ]
    }
   ],
   "source": [
    "print(phone_offered_by_each_brand)\n",
    "##SUSMITA KUNWAR"
   ]
  },
  {
   "cell_type": "markdown",
   "metadata": {},
   "source": [
    "Find the phone with the best Price-to-RAM ratio (lowest price per GB of RAM)."
   ]
  },
  {
   "cell_type": "code",
   "execution_count": 25,
   "metadata": {},
   "outputs": [
    {
     "name": "stdout",
     "output_type": "stream",
     "text": [
      "Company Name                            Infinix\n",
      "Model Name                               Hot 40\n",
      "Mobile Weight                              196g\n",
      "RAM                                         8.0\n",
      "Front Camera                               32MP\n",
      "Back Camera                                50MP\n",
      "Processor                    MediaTek Helio G88\n",
      "Battery Capacity                       5,000mAh\n",
      "Screen Size                         6.78 inches\n",
      "Launched Price (Pakistan)            PKR 35,999\n",
      "Launched Price (India)                  12499.0\n",
      "Launched Price (China)                CNY 1,199\n",
      "Launched Price (USA)                    USD 199\n",
      "Launched Price (Dubai)                  AED 749\n",
      "Launched Year                              2023\n",
      "Price-to-RAM Ratio                     1562.375\n",
      "Name: 763, dtype: object\n"
     ]
    }
   ],
   "source": [
    "# First, create the 'Price-to-RAM ratio' column by dividing the price by the RAM (in GB)\n",
    "# Assuming the price column is 'Launched Price (India)' and the RAM column is 'RAM'\n",
    "df['Launched Price (India)'] = df['Launched Price (India)'].replace({'INR': '', ',': ''}, regex=True)\n",
    "df['Launched Price (India)'] = pd.to_numeric(df['Launched Price (India)'], errors='coerce')\n",
    "\n",
    "# Removing 'GB' from the 'RAM' column\n",
    "df[\"RAM\"] = df[\"RAM\"].replace(\"GB\", \"\", regex=True)\n",
    "\n",
    "# Convert the 'RAM' column to numeric (float)\n",
    "df[\"RAM\"] = pd.to_numeric(df[\"RAM\"], errors='coerce')\n",
    "\n",
    "df['Price-to-RAM Ratio'] = df['Launched Price (India)'] / df['RAM']\n",
    "# Find the phone with the best Price-to-RAM ratio (lowest ratio)\n",
    "best_phone = df.loc[df['Price-to-RAM Ratio'].idxmin()]\n",
    "\n",
    "# Print the phone with the best Price-to-RAM ratio\n",
    "print(best_phone)"
   ]
  }
 ],
 "metadata": {
  "kernelspec": {
   "display_name": "base",
   "language": "python",
   "name": "python3"
  },
  "language_info": {
   "codemirror_mode": {
    "name": "ipython",
    "version": 3
   },
   "file_extension": ".py",
   "mimetype": "text/x-python",
   "name": "python",
   "nbconvert_exporter": "python",
   "pygments_lexer": "ipython3",
   "version": "3.12.7"
  }
 },
 "nbformat": 4,
 "nbformat_minor": 2
}
